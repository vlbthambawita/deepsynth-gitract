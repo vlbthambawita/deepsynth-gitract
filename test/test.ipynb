{
 "metadata": {
  "language_info": {
   "codemirror_mode": {
    "name": "ipython",
    "version": 3
   },
   "file_extension": ".py",
   "mimetype": "text/x-python",
   "name": "python",
   "nbconvert_exporter": "python",
   "pygments_lexer": "ipython3",
   "version": "3.8.3-final"
  },
  "orig_nbformat": 2,
  "kernelspec": {
   "name": "firstenv",
   "display_name": "firstEnv",
   "language": "python"
  }
 },
 "nbformat": 4,
 "nbformat_minor": 2,
 "cells": [
  {
   "cell_type": "code",
   "execution_count": 1,
   "metadata": {},
   "outputs": [
    {
     "output_type": "stream",
     "name": "stdout",
     "text": [
      "Processing ./DL/deepsynth-gitract/dist/deepsynth_gitract-0.0.1-py3-none-any.whl\n",
      "Requirement already satisfied: stylegan2-pytorch in ./anaconda3/envs/pytorch-new/lib/python3.8/site-packages (from deepsynth-gitract==0.0.1) (1.5.10)\n",
      "Requirement already satisfied: torch in ./anaconda3/envs/pytorch-new/lib/python3.8/site-packages (from deepsynth-gitract==0.0.1) (1.7.1+cu110)\n",
      "Requirement already satisfied: pandas in ./anaconda3/envs/pytorch-new/lib/python3.8/site-packages (from deepsynth-gitract==0.0.1) (1.0.5)\n",
      "Requirement already satisfied: tqdm in ./anaconda3/envs/pytorch-new/lib/python3.8/site-packages (from deepsynth-gitract==0.0.1) (4.46.0)\n",
      "Requirement already satisfied: pathlib in ./anaconda3/envs/pytorch-new/lib/python3.8/site-packages (from deepsynth-gitract==0.0.1) (1.0.1)\n",
      "Requirement already satisfied: numpy in ./anaconda3/envs/pytorch-new/lib/python3.8/site-packages (from deepsynth-gitract==0.0.1) (1.18.4)\n",
      "Requirement already satisfied: torchvision in ./anaconda3/envs/pytorch-new/lib/python3.8/site-packages (from stylegan2-pytorch->deepsynth-gitract==0.0.1) (0.8.2+cu110)\n",
      "Requirement already satisfied: pillow in ./anaconda3/envs/pytorch-new/lib/python3.8/site-packages (from stylegan2-pytorch->deepsynth-gitract==0.0.1) (7.1.2)\n",
      "Requirement already satisfied: vector-quantize-pytorch>=0.1.0 in ./anaconda3/envs/pytorch-new/lib/python3.8/site-packages (from stylegan2-pytorch->deepsynth-gitract==0.0.1) (0.1.0)\n",
      "Requirement already satisfied: linear-attention-transformer>=0.15.3 in ./anaconda3/envs/pytorch-new/lib/python3.8/site-packages (from stylegan2-pytorch->deepsynth-gitract==0.0.1) (0.15.3)\n",
      "Requirement already satisfied: aim in ./anaconda3/envs/pytorch-new/lib/python3.8/site-packages (from stylegan2-pytorch->deepsynth-gitract==0.0.1) (2.1.5)\n",
      "Requirement already satisfied: kornia in ./anaconda3/envs/pytorch-new/lib/python3.8/site-packages (from stylegan2-pytorch->deepsynth-gitract==0.0.1) (0.4.0)\n",
      "Requirement already satisfied: fire in ./anaconda3/envs/pytorch-new/lib/python3.8/site-packages (from stylegan2-pytorch->deepsynth-gitract==0.0.1) (0.3.1)\n",
      "Requirement already satisfied: retry in ./anaconda3/envs/pytorch-new/lib/python3.8/site-packages (from stylegan2-pytorch->deepsynth-gitract==0.0.1) (0.9.2)\n",
      "Requirement already satisfied: contrastive-learner>=0.1.0 in ./anaconda3/envs/pytorch-new/lib/python3.8/site-packages (from stylegan2-pytorch->deepsynth-gitract==0.0.1) (0.1.0)\n",
      "Requirement already satisfied: typing-extensions in ./anaconda3/envs/pytorch-new/lib/python3.8/site-packages (from torch->deepsynth-gitract==0.0.1) (3.7.4.3)\n",
      "Requirement already satisfied: pytz>=2017.2 in ./anaconda3/envs/pytorch-new/lib/python3.8/site-packages (from pandas->deepsynth-gitract==0.0.1) (2020.1)\n",
      "Requirement already satisfied: python-dateutil>=2.6.1 in ./anaconda3/envs/pytorch-new/lib/python3.8/site-packages (from pandas->deepsynth-gitract==0.0.1) (2.8.1)\n",
      "Requirement already satisfied: local-attention in ./anaconda3/envs/pytorch-new/lib/python3.8/site-packages (from linear-attention-transformer>=0.15.3->stylegan2-pytorch->deepsynth-gitract==0.0.1) (1.0.2)\n",
      "Requirement already satisfied: product-key-memory>=0.1.5 in ./anaconda3/envs/pytorch-new/lib/python3.8/site-packages (from linear-attention-transformer>=0.15.3->stylegan2-pytorch->deepsynth-gitract==0.0.1) (0.1.10)\n",
      "Requirement already satisfied: linformer>=0.1.0 in ./anaconda3/envs/pytorch-new/lib/python3.8/site-packages (from linear-attention-transformer>=0.15.3->stylegan2-pytorch->deepsynth-gitract==0.0.1) (0.2.0)\n",
      "Requirement already satisfied: axial-positional-embedding in ./anaconda3/envs/pytorch-new/lib/python3.8/site-packages (from linear-attention-transformer>=0.15.3->stylegan2-pytorch->deepsynth-gitract==0.0.1) (0.2.1)\n",
      "Requirement already satisfied: GitPython>=3.0.4 in ./anaconda3/envs/pytorch-new/lib/python3.8/site-packages (from aim->stylegan2-pytorch->deepsynth-gitract==0.0.1) (3.1.12)\n",
      "Requirement already satisfied: click>=6.7 in ./anaconda3/envs/pytorch-new/lib/python3.8/site-packages (from aim->stylegan2-pytorch->deepsynth-gitract==0.0.1) (7.1.2)\n",
      "Requirement already satisfied: anytree>=2.8.0 in ./anaconda3/envs/pytorch-new/lib/python3.8/site-packages (from aim->stylegan2-pytorch->deepsynth-gitract==0.0.1) (2.8.0)\n",
      "Requirement already satisfied: pyrser>=0.2.0 in ./anaconda3/envs/pytorch-new/lib/python3.8/site-packages (from aim->stylegan2-pytorch->deepsynth-gitract==0.0.1) (0.2.0)\n",
      "Requirement already satisfied: docker>=4.1.0 in ./anaconda3/envs/pytorch-new/lib/python3.8/site-packages (from aim->stylegan2-pytorch->deepsynth-gitract==0.0.1) (4.4.1)\n",
      "Requirement already satisfied: protobuf>=3.11.0 in ./anaconda3/envs/pytorch-new/lib/python3.8/site-packages (from aim->stylegan2-pytorch->deepsynth-gitract==0.0.1) (3.12.2)\n",
      "Requirement already satisfied: aimrecords==0.0.7 in ./anaconda3/envs/pytorch-new/lib/python3.8/site-packages (from aim->stylegan2-pytorch->deepsynth-gitract==0.0.1) (0.0.7)\n",
      "Requirement already satisfied: psutil>=5.6.7 in ./anaconda3/envs/pytorch-new/lib/python3.8/site-packages (from aim->stylegan2-pytorch->deepsynth-gitract==0.0.1) (5.8.0)\n",
      "Requirement already satisfied: requests>=2.0.0 in ./anaconda3/envs/pytorch-new/lib/python3.8/site-packages (from aim->stylegan2-pytorch->deepsynth-gitract==0.0.1) (2.23.0)\n",
      "Requirement already satisfied: termcolor in ./anaconda3/envs/pytorch-new/lib/python3.8/site-packages (from fire->stylegan2-pytorch->deepsynth-gitract==0.0.1) (1.1.0)\n",
      "Requirement already satisfied: six in ./anaconda3/envs/pytorch-new/lib/python3.8/site-packages (from fire->stylegan2-pytorch->deepsynth-gitract==0.0.1) (1.15.0)\n",
      "Requirement already satisfied: py<2.0.0,>=1.4.26 in ./anaconda3/envs/pytorch-new/lib/python3.8/site-packages (from retry->stylegan2-pytorch->deepsynth-gitract==0.0.1) (1.9.0)\n",
      "Requirement already satisfied: decorator>=3.4.2 in ./anaconda3/envs/pytorch-new/lib/python3.8/site-packages (from retry->stylegan2-pytorch->deepsynth-gitract==0.0.1) (4.4.2)\n",
      "Requirement already satisfied: gitdb<5,>=4.0.1 in ./anaconda3/envs/pytorch-new/lib/python3.8/site-packages (from GitPython>=3.0.4->aim->stylegan2-pytorch->deepsynth-gitract==0.0.1) (4.0.5)\n",
      "Requirement already satisfied: websocket-client>=0.32.0 in ./anaconda3/envs/pytorch-new/lib/python3.8/site-packages (from docker>=4.1.0->aim->stylegan2-pytorch->deepsynth-gitract==0.0.1) (0.57.0)\n",
      "Requirement already satisfied: setuptools in ./anaconda3/envs/pytorch-new/lib/python3.8/site-packages (from protobuf>=3.11.0->aim->stylegan2-pytorch->deepsynth-gitract==0.0.1) (46.4.0.post20200518)\n",
      "Requirement already satisfied: base58==2.0.1 in ./anaconda3/envs/pytorch-new/lib/python3.8/site-packages (from aimrecords==0.0.7->aim->stylegan2-pytorch->deepsynth-gitract==0.0.1) (2.0.1)\n",
      "Requirement already satisfied: chardet<4,>=3.0.2 in ./anaconda3/envs/pytorch-new/lib/python3.8/site-packages (from requests>=2.0.0->aim->stylegan2-pytorch->deepsynth-gitract==0.0.1) (3.0.4)\n",
      "Requirement already satisfied: idna<3,>=2.5 in ./anaconda3/envs/pytorch-new/lib/python3.8/site-packages (from requests>=2.0.0->aim->stylegan2-pytorch->deepsynth-gitract==0.0.1) (2.9)\n",
      "Requirement already satisfied: certifi>=2017.4.17 in ./anaconda3/envs/pytorch-new/lib/python3.8/site-packages (from requests>=2.0.0->aim->stylegan2-pytorch->deepsynth-gitract==0.0.1) (2020.12.5)\n",
      "Requirement already satisfied: urllib3!=1.25.0,!=1.25.1,<1.26,>=1.21.1 in ./anaconda3/envs/pytorch-new/lib/python3.8/site-packages (from requests>=2.0.0->aim->stylegan2-pytorch->deepsynth-gitract==0.0.1) (1.25.9)\n",
      "Requirement already satisfied: smmap<4,>=3.0.1 in ./anaconda3/envs/pytorch-new/lib/python3.8/site-packages (from gitdb<5,>=4.0.1->GitPython>=3.0.4->aim->stylegan2-pytorch->deepsynth-gitract==0.0.1) (3.0.4)\n",
      "Installing collected packages: deepsynth-gitract\n",
      "Successfully installed deepsynth-gitract-0.0.1\n",
      "Note: you may need to restart the kernel to use updated packages.\n"
     ]
    }
   ],
   "source": [
    "\n",
    "%pip install /work/vajira/DL/deepsynth-gitract/dist/deepsynth_gitract-0.0.1-py3-none-any.whl\n"
   ]
  },
  {
   "cell_type": "code",
   "execution_count": 2,
   "metadata": {},
   "outputs": [],
   "source": [
    "import deepsynth_gitract"
   ]
  },
  {
   "cell_type": "code",
   "execution_count": 4,
   "metadata": {},
   "outputs": [
    {
     "output_type": "stream",
     "name": "stdout",
     "text": [
      "Downloading checkpoints...\n",
      "Download checkpoints to: /work/vajira/DL/checkpoints/test_6/model_1000.pt\n",
      "continuing from previous epoch - 1000\n",
      "loading from version 1.5.10\n",
      "100%|██████████| 1/1 [00:00<00:00,  3.11it/s]sample images generated at /work/vajira/DL/checkpoints/test_6/generated-01-28-2021_20-29-01\n",
      "\n"
     ]
    }
   ],
   "source": [
    "deepsynth_gitract.generate(\"test_6\", \"/work/vajira/DL/checkpoints\", \"/work/vajira/DL/checkpoints\", 1, 1, trunc_psi=0.75, seed=50)"
   ]
  },
  {
   "cell_type": "code",
   "execution_count": 5,
   "metadata": {},
   "outputs": [
    {
     "output_type": "stream",
     "name": "stdout",
     "text": [
      "checkpoint is already available at: /work/vajira/DL/checkpoints/test_5/model_1000.pt\n",
      "continuing from previous epoch - 1000\n",
      "loading from version 1.5.10\n",
      "100%|██████████| 100/100 [00:01<00:00, 53.84it/s]\n",
      "interpolation generated at /work/vajira/DL/checkpoints/test_5/generated-01-28-2021_20-29-17\n"
     ]
    }
   ],
   "source": [
    "deepsynth_gitract.generate_interpolation(\"test_5\", \"/work/vajira/DL/checkpoints\", \"/work/vajira/DL/checkpoints\", \n",
    "                        num_img_per_tile=1,\n",
    "                        num_of_outputs=1,\n",
    "                        save_frames=True,\n",
    "                        num_of_steps_to_interpolate=100, seed=100)"
   ]
  },
  {
   "cell_type": "code",
   "execution_count": null,
   "metadata": {},
   "outputs": [],
   "source": []
  }
 ]
}