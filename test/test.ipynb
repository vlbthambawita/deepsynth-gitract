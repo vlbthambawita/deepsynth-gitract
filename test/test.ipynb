{
 "metadata": {
  "language_info": {
   "codemirror_mode": {
    "name": "ipython",
    "version": 3
   },
   "file_extension": ".py",
   "mimetype": "text/x-python",
   "name": "python",
   "nbconvert_exporter": "python",
   "pygments_lexer": "ipython3",
   "version": "3.8.3-final"
  },
  "orig_nbformat": 2,
  "kernelspec": {
   "name": "firstenv",
   "display_name": "firstEnv",
   "language": "python"
  }
 },
 "nbformat": 4,
 "nbformat_minor": 2,
 "cells": [
  {
   "cell_type": "code",
   "execution_count": 1,
   "metadata": {},
   "outputs": [
    {
     "output_type": "stream",
     "name": "stdout",
     "text": [
      "Processing /work/vajira/DL/deepfake-gitract/dist/deepfake_gitract-1.0.2-py3-none-any.whl\n",
      "Requirement already satisfied: stylegan2-pytorch in /work/vajira/anaconda3/envs/pytorch-new/lib/python3.8/site-packages (from deepfake-gitract==1.0.2) (1.5.10)\n",
      "Requirement already satisfied: numpy in /work/vajira/anaconda3/envs/pytorch-new/lib/python3.8/site-packages (from deepfake-gitract==1.0.2) (1.18.4)\n",
      "Requirement already satisfied: tqdm in /work/vajira/anaconda3/envs/pytorch-new/lib/python3.8/site-packages (from deepfake-gitract==1.0.2) (4.46.0)\n",
      "Requirement already satisfied: pandas in /work/vajira/anaconda3/envs/pytorch-new/lib/python3.8/site-packages (from deepfake-gitract==1.0.2) (1.0.5)\n",
      "Requirement already satisfied: pathlib in /work/vajira/anaconda3/envs/pytorch-new/lib/python3.8/site-packages (from deepfake-gitract==1.0.2) (1.0.1)\n",
      "Requirement already satisfied: torch in /work/vajira/anaconda3/envs/pytorch-new/lib/python3.8/site-packages (from deepfake-gitract==1.0.2) (1.7.1+cu110)\n",
      "Requirement already satisfied: fire in /work/vajira/anaconda3/envs/pytorch-new/lib/python3.8/site-packages (from stylegan2-pytorch->deepfake-gitract==1.0.2) (0.3.1)\n",
      "Requirement already satisfied: torchvision in /work/vajira/anaconda3/envs/pytorch-new/lib/python3.8/site-packages (from stylegan2-pytorch->deepfake-gitract==1.0.2) (0.8.2+cu110)\n",
      "Requirement already satisfied: aim in /work/vajira/anaconda3/envs/pytorch-new/lib/python3.8/site-packages (from stylegan2-pytorch->deepfake-gitract==1.0.2) (2.1.5)\n",
      "Requirement already satisfied: retry in /work/vajira/anaconda3/envs/pytorch-new/lib/python3.8/site-packages (from stylegan2-pytorch->deepfake-gitract==1.0.2) (0.9.2)\n",
      "Requirement already satisfied: vector-quantize-pytorch>=0.1.0 in /work/vajira/anaconda3/envs/pytorch-new/lib/python3.8/site-packages (from stylegan2-pytorch->deepfake-gitract==1.0.2) (0.1.0)\n",
      "Requirement already satisfied: linear-attention-transformer>=0.15.3 in /work/vajira/anaconda3/envs/pytorch-new/lib/python3.8/site-packages (from stylegan2-pytorch->deepfake-gitract==1.0.2) (0.15.3)\n",
      "Requirement already satisfied: kornia in /work/vajira/anaconda3/envs/pytorch-new/lib/python3.8/site-packages (from stylegan2-pytorch->deepfake-gitract==1.0.2) (0.4.0)\n",
      "Requirement already satisfied: pillow in /work/vajira/anaconda3/envs/pytorch-new/lib/python3.8/site-packages (from stylegan2-pytorch->deepfake-gitract==1.0.2) (7.1.2)\n",
      "Requirement already satisfied: contrastive-learner>=0.1.0 in /work/vajira/anaconda3/envs/pytorch-new/lib/python3.8/site-packages (from stylegan2-pytorch->deepfake-gitract==1.0.2) (0.1.0)\n",
      "Requirement already satisfied: pytz>=2017.2 in /work/vajira/anaconda3/envs/pytorch-new/lib/python3.8/site-packages (from pandas->deepfake-gitract==1.0.2) (2020.1)\n",
      "Requirement already satisfied: python-dateutil>=2.6.1 in /work/vajira/anaconda3/envs/pytorch-new/lib/python3.8/site-packages (from pandas->deepfake-gitract==1.0.2) (2.8.1)\n",
      "Requirement already satisfied: typing-extensions in /work/vajira/anaconda3/envs/pytorch-new/lib/python3.8/site-packages (from torch->deepfake-gitract==1.0.2) (3.7.4.3)\n",
      "Requirement already satisfied: six in /work/vajira/anaconda3/envs/pytorch-new/lib/python3.8/site-packages (from fire->stylegan2-pytorch->deepfake-gitract==1.0.2) (1.15.0)\n",
      "Requirement already satisfied: termcolor in /work/vajira/anaconda3/envs/pytorch-new/lib/python3.8/site-packages (from fire->stylegan2-pytorch->deepfake-gitract==1.0.2) (1.1.0)\n",
      "Requirement already satisfied: anytree>=2.8.0 in /work/vajira/anaconda3/envs/pytorch-new/lib/python3.8/site-packages (from aim->stylegan2-pytorch->deepfake-gitract==1.0.2) (2.8.0)\n",
      "Requirement already satisfied: requests>=2.0.0 in /work/vajira/anaconda3/envs/pytorch-new/lib/python3.8/site-packages (from aim->stylegan2-pytorch->deepfake-gitract==1.0.2) (2.23.0)\n",
      "Requirement already satisfied: protobuf>=3.11.0 in /work/vajira/anaconda3/envs/pytorch-new/lib/python3.8/site-packages (from aim->stylegan2-pytorch->deepfake-gitract==1.0.2) (3.12.2)\n",
      "Requirement already satisfied: pyrser>=0.2.0 in /work/vajira/anaconda3/envs/pytorch-new/lib/python3.8/site-packages (from aim->stylegan2-pytorch->deepfake-gitract==1.0.2) (0.2.0)\n",
      "Requirement already satisfied: GitPython>=3.0.4 in /work/vajira/anaconda3/envs/pytorch-new/lib/python3.8/site-packages (from aim->stylegan2-pytorch->deepfake-gitract==1.0.2) (3.1.12)\n",
      "Requirement already satisfied: click>=6.7 in /work/vajira/anaconda3/envs/pytorch-new/lib/python3.8/site-packages (from aim->stylegan2-pytorch->deepfake-gitract==1.0.2) (7.1.2)\n",
      "Requirement already satisfied: psutil>=5.6.7 in /work/vajira/anaconda3/envs/pytorch-new/lib/python3.8/site-packages (from aim->stylegan2-pytorch->deepfake-gitract==1.0.2) (5.8.0)\n",
      "Requirement already satisfied: aimrecords==0.0.7 in /work/vajira/anaconda3/envs/pytorch-new/lib/python3.8/site-packages (from aim->stylegan2-pytorch->deepfake-gitract==1.0.2) (0.0.7)\n",
      "Requirement already satisfied: docker>=4.1.0 in /work/vajira/anaconda3/envs/pytorch-new/lib/python3.8/site-packages (from aim->stylegan2-pytorch->deepfake-gitract==1.0.2) (4.4.1)\n",
      "Requirement already satisfied: py<2.0.0,>=1.4.26 in /work/vajira/anaconda3/envs/pytorch-new/lib/python3.8/site-packages (from retry->stylegan2-pytorch->deepfake-gitract==1.0.2) (1.9.0)\n",
      "Requirement already satisfied: decorator>=3.4.2 in /work/vajira/anaconda3/envs/pytorch-new/lib/python3.8/site-packages (from retry->stylegan2-pytorch->deepfake-gitract==1.0.2) (4.4.2)\n",
      "Requirement already satisfied: product-key-memory>=0.1.5 in /work/vajira/anaconda3/envs/pytorch-new/lib/python3.8/site-packages (from linear-attention-transformer>=0.15.3->stylegan2-pytorch->deepfake-gitract==1.0.2) (0.1.10)\n",
      "Requirement already satisfied: local-attention in /work/vajira/anaconda3/envs/pytorch-new/lib/python3.8/site-packages (from linear-attention-transformer>=0.15.3->stylegan2-pytorch->deepfake-gitract==1.0.2) (1.0.2)\n",
      "Requirement already satisfied: axial-positional-embedding in /work/vajira/anaconda3/envs/pytorch-new/lib/python3.8/site-packages (from linear-attention-transformer>=0.15.3->stylegan2-pytorch->deepfake-gitract==1.0.2) (0.2.1)\n",
      "Requirement already satisfied: linformer>=0.1.0 in /work/vajira/anaconda3/envs/pytorch-new/lib/python3.8/site-packages (from linear-attention-transformer>=0.15.3->stylegan2-pytorch->deepfake-gitract==1.0.2) (0.2.0)\n",
      "Requirement already satisfied: chardet<4,>=3.0.2 in /work/vajira/anaconda3/envs/pytorch-new/lib/python3.8/site-packages (from requests>=2.0.0->aim->stylegan2-pytorch->deepfake-gitract==1.0.2) (3.0.4)\n",
      "Requirement already satisfied: certifi>=2017.4.17 in /work/vajira/anaconda3/envs/pytorch-new/lib/python3.8/site-packages (from requests>=2.0.0->aim->stylegan2-pytorch->deepfake-gitract==1.0.2) (2020.12.5)\n",
      "Requirement already satisfied: urllib3!=1.25.0,!=1.25.1,<1.26,>=1.21.1 in /work/vajira/anaconda3/envs/pytorch-new/lib/python3.8/site-packages (from requests>=2.0.0->aim->stylegan2-pytorch->deepfake-gitract==1.0.2) (1.25.9)\n",
      "Requirement already satisfied: idna<3,>=2.5 in /work/vajira/anaconda3/envs/pytorch-new/lib/python3.8/site-packages (from requests>=2.0.0->aim->stylegan2-pytorch->deepfake-gitract==1.0.2) (2.9)\n",
      "Requirement already satisfied: setuptools in /work/vajira/anaconda3/envs/pytorch-new/lib/python3.8/site-packages (from protobuf>=3.11.0->aim->stylegan2-pytorch->deepfake-gitract==1.0.2) (46.4.0.post20200518)\n",
      "Requirement already satisfied: gitdb<5,>=4.0.1 in /work/vajira/anaconda3/envs/pytorch-new/lib/python3.8/site-packages (from GitPython>=3.0.4->aim->stylegan2-pytorch->deepfake-gitract==1.0.2) (4.0.5)\n",
      "Requirement already satisfied: base58==2.0.1 in /work/vajira/anaconda3/envs/pytorch-new/lib/python3.8/site-packages (from aimrecords==0.0.7->aim->stylegan2-pytorch->deepfake-gitract==1.0.2) (2.0.1)\n",
      "Requirement already satisfied: websocket-client>=0.32.0 in /work/vajira/anaconda3/envs/pytorch-new/lib/python3.8/site-packages (from docker>=4.1.0->aim->stylegan2-pytorch->deepfake-gitract==1.0.2) (0.57.0)\n",
      "Requirement already satisfied: smmap<4,>=3.0.1 in /work/vajira/anaconda3/envs/pytorch-new/lib/python3.8/site-packages (from gitdb<5,>=4.0.1->GitPython>=3.0.4->aim->stylegan2-pytorch->deepfake-gitract==1.0.2) (3.0.4)\n",
      "Installing collected packages: deepfake-gitract\n",
      "Successfully installed deepfake-gitract-1.0.2\n",
      "Note: you may need to restart the kernel to use updated packages.\n"
     ]
    }
   ],
   "source": [
    "\n",
    "%pip install /work/vajira/DL/deepfake-gitract/dist/deepfake_gitract-1.0.2-py3-none-any.whl\n"
   ]
  },
  {
   "cell_type": "code",
   "execution_count": 2,
   "metadata": {},
   "outputs": [],
   "source": [
    "import deepfake_gitract"
   ]
  },
  {
   "cell_type": "code",
   "execution_count": 10,
   "metadata": {},
   "outputs": [
    {
     "output_type": "stream",
     "name": "stdout",
     "text": [
      "checkpoint is already available at: /work/vajira/DL/checkpoints/test_5/model_1000.pt\n",
      "continuing from previous epoch - 1000\n",
      "  0%|          | 0/1 [00:00<?, ?it/s]loading from version 1.5.10\n",
      "100%|██████████| 1/1 [00:00<00:00,  3.06it/s]sample images generated at /work/vajira/DL/checkpoints/test_5/generated-01-27-2021_17-01-21\n",
      "\n"
     ]
    }
   ],
   "source": [
    "deepfake_gitract.generate(\"test_5\", \"/work/vajira/DL/checkpoints\", \"/work/vajira/DL/checkpoints\", 1, 1, trunc_psi=0.75, seed=50)"
   ]
  },
  {
   "cell_type": "code",
   "execution_count": 14,
   "metadata": {},
   "outputs": [
    {
     "output_type": "stream",
     "name": "stdout",
     "text": [
      "checkpoint is already available at: /work/vajira/DL/checkpoints/test_5/model_1000.pt\n",
      "continuing from previous epoch - 1000\n",
      "  0%|          | 0/100 [00:00<?, ?it/s]loading from version 1.5.10\n",
      "100%|██████████| 100/100 [00:01<00:00, 59.40it/s]\n",
      "interpolation generated at /work/vajira/DL/checkpoints/test_5/generated-01-27-2021_17-12-11\n"
     ]
    }
   ],
   "source": [
    "deepfake_gitract.generate_interpolation(\"test_5\", \"/work/vajira/DL/checkpoints\", \"/work/vajira/DL/checkpoints\", \n",
    "                        num_img_per_tile=1,\n",
    "                        num_of_outputs=1,\n",
    "                        save_frames=True,\n",
    "                        num_of_steps_to_interpolate=100, seed=100)"
   ]
  },
  {
   "cell_type": "code",
   "execution_count": null,
   "metadata": {},
   "outputs": [],
   "source": []
  }
 ]
}